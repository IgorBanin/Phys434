{
 "cells": [
  {
   "cell_type": "markdown",
   "metadata": {},
   "source": [
    "# Homework 2\n",
    "## 1)  A little introductory brain teaser. Which is more probable when rolling 2 six-sided dice: rolling snake eyes (two ones) or rolling sevens (dice sum to seven)? What is the ratio of the probabilities?\n",
    "\n",
    "There is a total of 2 combinations that would result in snake eyes, [1,1] and [1,1] with opposite dies, and 36 different possibilities. Probability: 2/36 = 5.56%.\n",
    "For sum to 7 there are 6 different possibilities, [1,6], [6,1], [5,2], [2,5], [3,4], [4,3]. \n",
    "Probability: 6/36 = 16.67%\n"
   ]
  },
  {
   "cell_type": "markdown",
   "metadata": {},
   "source": [
    "## 2) Following what we did in class show how to use the convolution operator to determine the probability of the sum of 2 six sided dice. Do both analytically (math & counting) and numerically (computer program). Beware the implicit definition of the values (x-axis on histogram)\n",
    "\n",
    "The probability of the sum of 2 six sided dies can be best summed up with this equation p(x)=P(X=n)=1/36 * min(n−1,13−n). To get a sum of 1 - 0%, a roll of 2 - 1/36, a roll of 3 - 2/36, a roll of 4 3/36, a roll of 5 - 4/36, a roll of 6 - 5/36, a roll of 7 - 6/36, a roll of 8 - 5/36... all the way back down in increments of 1/36 down to a 0 percent chance to roll a 13.The convolution operator is the area under the curve of "
   ]
  }
 ],
 "metadata": {
  "kernelspec": {
   "display_name": "Python 3",
   "language": "python",
   "name": "python3"
  },
  "language_info": {
   "codemirror_mode": {
    "name": "ipython",
    "version": 3
   },
   "file_extension": ".py",
   "mimetype": "text/x-python",
   "name": "python",
   "nbconvert_exporter": "python",
   "pygments_lexer": "ipython3",
   "version": "3.6.8"
  }
 },
 "nbformat": 4,
 "nbformat_minor": 2
}
