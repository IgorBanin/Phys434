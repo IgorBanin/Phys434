{
 "cells": [
  {
   "cell_type": "markdown",
   "metadata": {},
   "source": [
    "# Lab 5\n",
    "\n",
    "## Higgs Overview\n",
    "\n",
    "In this problem we will be looking for the standard model of the Higgs Boson, in proton-proton collisions at centre of mass energy of 13 TeV, at the Large Hadron Collider(LHC) using simulated data from [A. Schuy](https://github.com/AlexSchuy/qsvm_jet_tagging/tree/master/qsvm_jet_tagging/generation).\n",
    "\n",
    "#### What is the Higgs Boson?\n",
    "Put simply, the Higgs boson is what allows us to explain why subatomic particles have mass. The Higgs boson operates on the theory of an energy field that permeates the entire universe(known as the Higgs field). The mass of subatomic particles is determined by how much they interact with this Higgs field.\n",
    "\n",
    "Using water as an analogy for the Higgs field: a fish moving really smoothly through water because its body is streamlined, is analagous to a low-mass particle with minimal interaction with the Higgs field. While a human swimming and splashing through the water, is analogous to a massive particle, heavily interacting with the higgs field. Just like a pool is made up of water molecules, so is the higgs field made up of higgs bosons.\n",
    "\n",
    "#### What is the Large Hadron Collider? What does it have to do with the Higgs Boson?\n",
    "The Large Hadron Collider is a 27 kilometer long particle accelerator that smashes protons against each other. By smashing protons against each other scientists can find what protons are made out of(neutrons, kaons, pions, muons, neutrinos), as well as interact with the higgs field. Smashing protons creates quantum excitation in the higgs field, which creates the possibility of flicking off a higgs particle. This event is extrememly rare and happens approximately once in every trillion pp collisions.\n",
    "\n",
    "The Higgs bosons are produced with large transverse momentum (pT) and decaying to a bottom quark-antiquark pair. The Higgs candidates could be reconstructed as large-radius jets using Calorimeters."
   ]
  },
  {
   "cell_type": "markdown",
   "metadata": {},
   "source": [
    "## Exploring the Dataset\n",
    "\n",
    "For these data sets we will be using the pickle module for binary serialization and deserialization. \n",
    "\n",
    "#### Categories\n",
    "\n",
    " - pt - Corresponds to the transverse momentum in the xy-plane of the proton to proton collisions in the LHC.\n",
    " - eta(n) - or theta is the pseudorapidity, or the angle of a particle relative to the beam axis. The angle of the particle in the z-y plane.\n",
    " - phi - The azimuthal angle responsible for the angle of the particle in x-y plane.\n",
    " - mass - invariant mass, or the intrinsic mass of the system of objects independent of the overall motion of the system.\n",
    " - ee2(e2) - 2-point ECF ratio, is the energy correlation function for 2-point correlators. Particularly useful for quark/gluon discrimination.\n",
    " - ee3(e3) - 3-point ECF ratio, is the energy correlation function for 3-point correlators. Particularly useful for boosted W/Z/Higgs boson identification.\n",
    " - d2 - 3 to 2 point ECF ratio\n",
    " - angularity(tau) - Specific orientation of one feature to another at a referenced angle.\n",
    " - N- subjettiness - a jet shape designed to identify boosted hadronic objects such as top quarks. Given N subjet axes within a jet, N-subjettiness sums the angular distances of jet constituents to their nearest subjet axis.\n",
    " - t1 - 1-subjettiness\n",
    " - t2 - 2-subjettiness\n",
    " - t3 - 3-subjettiness\n",
    " - t21 - 21-subjettiness\n",
    " - t32 - 32-subjettiness\n",
    " - KtDeltaR - delta R of two subjets within the large-R jet\n",
    " \n",
    "#### Datasets\n",
    "2 files each containing 100k jets. Higgs is the signal dataset while Qcd is the background dataset."
   ]
  },
  {
   "cell_type": "code",
   "execution_count": 15,
   "metadata": {},
   "outputs": [
    {
     "name": "stdout",
     "output_type": "stream",
     "text": [
      "Higgs Signal categories:  Index(['pt', 'eta', 'phi', 'mass', 'ee2', 'ee3', 'd2', 'angularity', 't1',\n",
      "       't2', 't3', 't21', 't32', 'KtDeltaR'],\n",
      "      dtype='object')\n",
      "QCD background categories:  Index(['pt', 'eta', 'phi', 'mass', 'ee2', 'ee3', 'd2', 'angularity', 't1',\n",
      "       't2', 't3', 't21', 't32', 'KtDeltaR'],\n",
      "      dtype='object')\n"
     ]
    }
   ],
   "source": [
    "# import library\n",
    "import pickle\n",
    "%matplotlib inline\n",
    "import numpy as np\n",
    "import matplotlib\n",
    "import matplotlib.pyplot as plt\n",
    "import scipy\n",
    "from scipy import stats\n",
    "import h5py\n",
    "import statistics\n",
    "\n",
    "#this sets the size of the plot to something useful\n",
    "plt.rcParams[\"figure.figsize\"] = (20,15)\n",
    "\n",
    "# open the file of interest, and use pickle loading\n",
    "infile = open (\"higgs_100000_pt_1000_1200.pkl\",'rb')\n",
    "higgs = pickle.load(infile)\n",
    "\n",
    "infile2 = open (\"qcd_100000_pt_1000_1200.pkl\",'rb')\n",
    "qcd = pickle.load(infile2)\n",
    "\n",
    "# list all keys of the files\n",
    "print(\"Higgs Signal categories: \", higgs.keys())\n",
    "print(\"QCD background categories: \", qcd.keys())"
   ]
  },
  {
   "cell_type": "markdown",
   "metadata": {},
   "source": [
    "## Exploring the Higgs Dataset\n",
    "\n",
    "\n",
    "A fraction of Higgs bosons in simulation are reconstructed and labelled as a Higgs-jet. Higgs-jets are defined as calorimeter-based large-R jets with a Higgs boson and the corresponding two b-hadrons from the Higgs boson decay found in the MC event record within ∆R = 1 of the large-R jet. Only the Higgs boson with the highest pT in the event is considered and it is required to have pT > 250 GeV and |η| < 2.0.  "
   ]
  },
  {
   "cell_type": "code",
   "execution_count": 17,
   "metadata": {},
   "outputs": [
    {
     "name": "stdout",
     "output_type": "stream",
     "text": [
      "1091.556508125313\n"
     ]
    },
    {
     "data": {
      "text/plain": [
       "'\\nax.plot(higgs[0,:], data[1,::100000],\\n       \\'r\\', lw=7, alpha=0.6)\\nplt.tick_params(labelsize = 16)\\nplt.title(\"Solar Phase vs Time\"\\n          ,fontsize=24)\\nplt.xlabel(\"Time(gps seconds)\", fontsize = 16)\\nplt.ylabel(\\'Solar Phase(degrees)\\', fontsize = 16)\\nplt.show()\\n'"
      ]
     },
     "execution_count": 17,
     "metadata": {},
     "output_type": "execute_result"
    },
    {
     "data": {
      "image/png": "[encoded data removed]",
      "text/plain": [
       "<Figure size 1440x1080 with 1 Axes>"
      ]
     },
     "metadata": {
      "needs_background": "light"
     },
     "output_type": "display_data"
    }
   ],
   "source": [
    "fig, ax = plt.subplots(1, 1)\n",
    "#how to access values in the dictionary\n",
    "\n",
    "higgs_jet = []\n",
    "#for i in range(len(higgs)):\n",
    "print(higgs['pt'][100])    \n",
    "#print(new_dict['mass'][i],new_dict['d2'][i])\n",
    "\n",
    "'''\n",
    "ax.plot(higgs[0,:], data[1,::100000],\n",
    "       'r', lw=7, alpha=0.6)\n",
    "plt.tick_params(labelsize = 16)\n",
    "plt.title(\"Solar Phase vs Time\"\n",
    "          ,fontsize=24)\n",
    "plt.xlabel(\"Time(gps seconds)\", fontsize = 16)\n",
    "plt.ylabel('Solar Phase(degrees)', fontsize = 16)\n",
    "plt.show()\n",
    "'''"
   ]
  },
  {
   "cell_type": "code",
   "execution_count": null,
   "metadata": {},
   "outputs": [],
   "source": [
    "plt.rcParams[\"figure.figsize\"] = (20,15)\n",
    "\n",
    "plt.subplot(1,2,1)\n",
    "plt.title(\"Earth Longitude vs Time\"\n",
    "          ,fontsize=24)\n",
    "plt.xlabel(\"Time(gps seconds)\", fontsize = 16)\n",
    "plt.ylabel('Earth Longitude(degrees)', fontsize = 16)\n",
    "plt.tick_params(labelsize = 16)\n",
    "plt.plot(data[0,::100000], data[2,::100000],\n",
    "       'g', lw=7, alpha=0.6)\n",
    "\n",
    "plt.subplot(1,2,2)\n",
    "plt.title(\"Earth Longitude vs Time\"\n",
    "          ,fontsize=24)\n",
    "plt.xlabel(\"Time(gps seconds)\", fontsize = 16)\n",
    "plt.ylabel('Earth Longitude(degrees)', fontsize = 16)\n",
    "plt.tick_params(labelsize = 16)\n",
    "plt.plot(data[0,::1000000], data[2,::1000000],\n",
    "       'g', lw=7, alpha=0.6)\n",
    "\n",
    "plt.show()"
   ]
  }
 ],
 "metadata": {
  "kernelspec": {
   "display_name": "Python 3",
   "language": "python",
   "name": "python3"
  },
  "language_info": {
   "codemirror_mode": {
    "name": "ipython",
    "version": 3
   },
   "file_extension": ".py",
   "mimetype": "text/x-python",
   "name": "python",
   "nbconvert_exporter": "python",
   "pygments_lexer": "ipython3",
   "version": "3.6.8"
  }
 },
 "nbformat": 4,
 "nbformat_minor": 2
}
